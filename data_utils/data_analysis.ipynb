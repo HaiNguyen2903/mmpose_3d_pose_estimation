{
 "cells": [
  {
   "cell_type": "code",
   "execution_count": 9,
   "metadata": {},
   "outputs": [
    {
     "name": "stderr",
     "output_type": "stream",
     "text": [
      "/home/ducanh/anaconda3/envs/mmpose/lib/python3.7/site-packages/tqdm/auto.py:22: TqdmWarning: IProgress not found. Please update jupyter and ipywidgets. See https://ipywidgets.readthedocs.io/en/stable/user_install.html\n",
      "  from .autonotebook import tqdm as notebook_tqdm\n"
     ]
    },
    {
     "data": {
      "text/plain": [
       "dict_keys(['meta', 'state_dict'])"
      ]
     },
     "execution_count": 9,
     "metadata": {},
     "output_type": "execute_result"
    }
   ],
   "source": [
    "from xtcocotools.coco import COCO\n",
    "import torch\n",
    "\n",
    "ckpt_path = '/home/ducanh/hain/code/mmpose_3d_pose_estimation/pretrained_weights/simplebaseline3d_mpi-inf-3dhp-b75546f6_20210603.pth'\n",
    "ckpt = torch.load(ckpt_path)\n",
    "ckpt.keys()"
   ]
  },
  {
   "cell_type": "code",
   "execution_count": 10,
   "metadata": {},
   "outputs": [
    {
     "data": {
      "text/plain": [
       "dict_keys(['mmcv_version', 'time'])"
      ]
     },
     "execution_count": 10,
     "metadata": {},
     "output_type": "execute_result"
    }
   ],
   "source": [
    "ckpt['meta'].keys()"
   ]
  },
  {
   "cell_type": "code",
   "execution_count": 11,
   "metadata": {},
   "outputs": [
    {
     "data": {
      "text/plain": [
       "(3, 5, 1)"
      ]
     },
     "execution_count": 11,
     "metadata": {},
     "output_type": "execute_result"
    }
   ],
   "source": [
    "'''\n",
    "joints_2d: 2D joint coordinates in shape [N, K, 2], where N is the\n",
    "            frame number, K is the joint number.\n",
    "        joints_3d: 3D joint coordinates in shape [N, K, 3], where N is the\n",
    "            frame number, K is the joint number.\n",
    "'''\n",
    "# visibility = (joints_2d[:, :, 0] >= 0) * \\\n",
    "#                 (joints_2d[:, :, 0] < train_img_size[0]) * \\\n",
    "#                 (joints_2d[:, :, 1] >= 0) * \\\n",
    "#                 (joints_2d[:, :, 1] < train_img_size[1])\n",
    "# visibility = np.array(visibility, dtype=np.float32)[:, :, None]\n",
    "# joints_2d = np.concatenate([joints_2d, visibility], axis=-1)\n",
    "# joints_3d = np.concatenate([joints_3d, visibility], axis=-1)\n",
    "\n",
    "import numpy as np\n",
    "\n",
    "joints_2d = np.random.rand(3, 5, 2)\n",
    "visible = joints_2d[:,:, 0] >= 0.5\n",
    "\n",
    "visible = np.array(visible, dtype = np.float32)[:,:, None]\n",
    "visible.shape\n"
   ]
  },
  {
   "cell_type": "code",
   "execution_count": 12,
   "metadata": {},
   "outputs": [],
   "source": [
    "import os.path as osp\n",
    "\n",
    "data_root = '/home/ducanh/hain/dataset/MPI_INF_3DHF/mmpose_format'\n",
    "\n",
    "train_ann = np.load(osp.join(data_root, 'annotations/mpi_inf_3dhp_train.npz'))"
   ]
  },
  {
   "cell_type": "code",
   "execution_count": 21,
   "metadata": {},
   "outputs": [
    {
     "data": {
      "text/plain": [
       "array([[ 1013.741 ,  1263.357 ],\n",
       "       [ 1005.17  ,  1242.5945],\n",
       "       [ 1014.891 ,  1263.192 ],\n",
       "       ...,\n",
       "       [-3661.3   ,   956.758 ],\n",
       "       [-3666.645 ,   966.9295],\n",
       "       [-3660.5   ,   941.994 ]])"
      ]
     },
     "execution_count": 21,
     "metadata": {},
     "output_type": "execute_result"
    }
   ],
   "source": [
    "train_ann['center']"
   ]
  },
  {
   "cell_type": "code",
   "execution_count": 18,
   "metadata": {},
   "outputs": [
    {
     "data": {
      "text/plain": [
       "array([[1.02221000e+03, 8.98929000e+02, 1.00000000e+00],\n",
       "       [1.02587000e+03, 1.00338000e+03, 1.00000000e+00],\n",
       "       [1.03087000e+03, 1.03252000e+03, 1.00000000e+00],\n",
       "       [1.03710000e+03, 1.06037000e+03, 1.00000000e+00],\n",
       "       [1.05520000e+03, 1.07575000e+03, 1.00000000e+00],\n",
       "       [1.01811000e+03, 1.03820000e+03, 1.00000000e+00],\n",
       "       [1.00834000e+03, 1.03999000e+03, 1.00000000e+00],\n",
       "       [1.00915000e+03, 1.04756000e+03, 1.00000000e+00],\n",
       "       [1.03388250e+03, 1.20537750e+03, 1.00000000e+00],\n",
       "       [1.00946000e+03, 1.42498000e+03, 1.00000000e+00],\n",
       "       [9.55743000e+02, 1.58626000e+03, 1.00000000e+00],\n",
       "       [1.01589750e+03, 1.19048250e+03, 1.00000000e+00],\n",
       "       [1.00330000e+03, 1.41178000e+03, 1.00000000e+00],\n",
       "       [9.55140000e+02, 1.58149000e+03, 1.00000000e+00],\n",
       "       [1.02489000e+03, 1.19793000e+03, 1.00000000e+00],\n",
       "       [1.02077892e+03, 1.10667261e+03, 1.00000000e+00],\n",
       "       [1.03191000e+03, 9.68791000e+02, 1.00000000e+00]])"
      ]
     },
     "execution_count": 18,
     "metadata": {},
     "output_type": "execute_result"
    }
   ],
   "source": [
    "train_ann['part'][1]"
   ]
  },
  {
   "cell_type": "code",
   "execution_count": 2,
   "metadata": {},
   "outputs": [
    {
     "ename": "NameError",
     "evalue": "name 'data_root' is not defined",
     "output_type": "error",
     "traceback": [
      "\u001b[0;31m---------------------------------------------------------------------------\u001b[0m",
      "\u001b[0;31mNameError\u001b[0m                                 Traceback (most recent call last)",
      "\u001b[0;32m/tmp/ipykernel_1052232/3084994095.py\u001b[0m in \u001b[0;36m<module>\u001b[0;34m\u001b[0m\n\u001b[1;32m      1\u001b[0m \u001b[0;32mimport\u001b[0m \u001b[0mpandas\u001b[0m \u001b[0;32mas\u001b[0m \u001b[0mpd\u001b[0m\u001b[0;34m\u001b[0m\u001b[0m\n\u001b[1;32m      2\u001b[0m \u001b[0;32mimport\u001b[0m \u001b[0mos\u001b[0m\u001b[0;34m.\u001b[0m\u001b[0mpath\u001b[0m \u001b[0;32mas\u001b[0m \u001b[0mosp\u001b[0m\u001b[0;34m\u001b[0m\u001b[0m\n\u001b[0;32m----> 3\u001b[0;31m \u001b[0mdata\u001b[0m \u001b[0;34m=\u001b[0m \u001b[0mpd\u001b[0m\u001b[0;34m.\u001b[0m\u001b[0mread_pickle\u001b[0m\u001b[0;34m(\u001b[0m\u001b[0mosp\u001b[0m\u001b[0;34m.\u001b[0m\u001b[0mjoin\u001b[0m\u001b[0;34m(\u001b[0m\u001b[0mdata_root\u001b[0m\u001b[0;34m,\u001b[0m \u001b[0;34m'cameras_train.pkl'\u001b[0m\u001b[0;34m)\u001b[0m\u001b[0;34m)\u001b[0m\u001b[0;34m\u001b[0m\u001b[0m\n\u001b[0m\u001b[1;32m      4\u001b[0m \u001b[0mdata\u001b[0m\u001b[0;34m\u001b[0m\u001b[0m\n",
      "\u001b[0;31mNameError\u001b[0m: name 'data_root' is not defined"
     ]
    }
   ],
   "source": [
    "import pandas as pd\n",
    "import os.path as osp\n",
    "data = pd.read_pickle('/home/ducanh/hain/dataset/MPI_INF_3DHF/mmpose_formatcameras_train.pkl')\n",
    "data"
   ]
  },
  {
   "cell_type": "code",
   "execution_count": 26,
   "metadata": {},
   "outputs": [
    {
     "data": {
      "text/plain": [
       "3.0"
      ]
     },
     "execution_count": 26,
     "metadata": {},
     "output_type": "execute_result"
    }
   ],
   "source": [
    "a = np.array([-1,-2,1,2,3,4,5])\n",
    "a.mean(axis=0, where = a > 0)"
   ]
  }
 ],
 "metadata": {
  "kernelspec": {
   "display_name": "Python 3.7.0 ('mmpose')",
   "language": "python",
   "name": "python3"
  },
  "language_info": {
   "codemirror_mode": {
    "name": "ipython",
    "version": 3
   },
   "file_extension": ".py",
   "mimetype": "text/x-python",
   "name": "python",
   "nbconvert_exporter": "python",
   "pygments_lexer": "ipython3",
   "version": "3.7.0"
  },
  "orig_nbformat": 4,
  "vscode": {
   "interpreter": {
    "hash": "54996cf24eb8eb3344e1f21c14ac9d50bcef7cf88c27345b2571e0c4a1f512f4"
   }
  }
 },
 "nbformat": 4,
 "nbformat_minor": 2
}
