{
 "cells": [
  {
   "cell_type": "code",
   "execution_count": 3,
   "metadata": {},
   "outputs": [
    {
     "data": {
      "text/plain": [
       "dict_keys(['meta', 'state_dict'])"
      ]
     },
     "execution_count": 3,
     "metadata": {},
     "output_type": "execute_result"
    }
   ],
   "source": [
    "from xtcocotools.coco import COCO\n",
    "import torch\n",
    "\n",
    "ckpt_path = '/home/ducanh/hain/code/mmpose_3d_pose_estimation/pretrained_weights/simplebaseline3d_mpi-inf-3dhp-b75546f6_20210603.pth'\n",
    "ckpt = torch.load(ckpt_path)\n",
    "ckpt.keys()"
   ]
  },
  {
   "cell_type": "code",
   "execution_count": 6,
   "metadata": {},
   "outputs": [
    {
     "data": {
      "text/plain": [
       "dict_keys(['mmcv_version', 'time'])"
      ]
     },
     "execution_count": 6,
     "metadata": {},
     "output_type": "execute_result"
    }
   ],
   "source": [
    "ckpt['meta'].keys()"
   ]
  },
  {
   "cell_type": "code",
   "execution_count": 32,
   "metadata": {},
   "outputs": [
    {
     "data": {
      "text/plain": [
       "(3, 5, 1)"
      ]
     },
     "execution_count": 32,
     "metadata": {},
     "output_type": "execute_result"
    }
   ],
   "source": [
    "'''\n",
    "joints_2d: 2D joint coordinates in shape [N, K, 2], where N is the\n",
    "            frame number, K is the joint number.\n",
    "        joints_3d: 3D joint coordinates in shape [N, K, 3], where N is the\n",
    "            frame number, K is the joint number.\n",
    "'''\n",
    "# visibility = (joints_2d[:, :, 0] >= 0) * \\\n",
    "#                 (joints_2d[:, :, 0] < train_img_size[0]) * \\\n",
    "#                 (joints_2d[:, :, 1] >= 0) * \\\n",
    "#                 (joints_2d[:, :, 1] < train_img_size[1])\n",
    "# visibility = np.array(visibility, dtype=np.float32)[:, :, None]\n",
    "# joints_2d = np.concatenate([joints_2d, visibility], axis=-1)\n",
    "# joints_3d = np.concatenate([joints_3d, visibility], axis=-1)\n",
    "\n",
    "import numpy as np\n",
    "\n",
    "joints_2d = np.random.rand(3, 5, 2)\n",
    "visible = joints_2d[:,:, 0] >= 0.5\n",
    "\n",
    "visible = np.array(visible, dtype = np.float32)[:,:, None]\n",
    "visible.shape\n"
   ]
  },
  {
   "cell_type": "code",
   "execution_count": 34,
   "metadata": {},
   "outputs": [
    {
     "ename": "FileNotFoundError",
     "evalue": "[Errno 2] No such file or directory: '/home/ducanh/hain/dataset/MPI_INF_3DHF/mmpose_format/mpi_inf_3dhp_train.npz'",
     "output_type": "error",
     "traceback": [
      "\u001b[0;31m---------------------------------------------------------------------------\u001b[0m",
      "\u001b[0;31mFileNotFoundError\u001b[0m                         Traceback (most recent call last)",
      "\u001b[0;32m/tmp/ipykernel_429687/3981798492.py\u001b[0m in \u001b[0;36m<module>\u001b[0;34m\u001b[0m\n\u001b[1;32m      3\u001b[0m \u001b[0mdata_root\u001b[0m \u001b[0;34m=\u001b[0m \u001b[0;34m'/home/ducanh/hain/dataset/MPI_INF_3DHF/mmpose_format'\u001b[0m\u001b[0;34m\u001b[0m\u001b[0m\n\u001b[1;32m      4\u001b[0m \u001b[0;34m\u001b[0m\u001b[0m\n\u001b[0;32m----> 5\u001b[0;31m \u001b[0mtrain_ann\u001b[0m \u001b[0;34m=\u001b[0m \u001b[0mnp\u001b[0m\u001b[0;34m.\u001b[0m\u001b[0mload\u001b[0m\u001b[0;34m(\u001b[0m\u001b[0mosp\u001b[0m\u001b[0;34m.\u001b[0m\u001b[0mjoin\u001b[0m\u001b[0;34m(\u001b[0m\u001b[0mdata_root\u001b[0m\u001b[0;34m,\u001b[0m \u001b[0;34m'mpi_inf_3dhp_train.npz'\u001b[0m\u001b[0;34m)\u001b[0m\u001b[0;34m)\u001b[0m\u001b[0;34m\u001b[0m\u001b[0m\n\u001b[0m\u001b[1;32m      6\u001b[0m \u001b[0mtrain_ann\u001b[0m\u001b[0;34m\u001b[0m\u001b[0m\n",
      "\u001b[0;32m~/anaconda3/envs/mmpose/lib/python3.7/site-packages/numpy/lib/npyio.py\u001b[0m in \u001b[0;36mload\u001b[0;34m(file, mmap_mode, allow_pickle, fix_imports, encoding)\u001b[0m\n\u001b[1;32m    415\u001b[0m             \u001b[0mown_fid\u001b[0m \u001b[0;34m=\u001b[0m \u001b[0;32mFalse\u001b[0m\u001b[0;34m\u001b[0m\u001b[0m\n\u001b[1;32m    416\u001b[0m         \u001b[0;32melse\u001b[0m\u001b[0;34m:\u001b[0m\u001b[0;34m\u001b[0m\u001b[0m\n\u001b[0;32m--> 417\u001b[0;31m             \u001b[0mfid\u001b[0m \u001b[0;34m=\u001b[0m \u001b[0mstack\u001b[0m\u001b[0;34m.\u001b[0m\u001b[0menter_context\u001b[0m\u001b[0;34m(\u001b[0m\u001b[0mopen\u001b[0m\u001b[0;34m(\u001b[0m\u001b[0mos_fspath\u001b[0m\u001b[0;34m(\u001b[0m\u001b[0mfile\u001b[0m\u001b[0;34m)\u001b[0m\u001b[0;34m,\u001b[0m \u001b[0;34m\"rb\"\u001b[0m\u001b[0;34m)\u001b[0m\u001b[0;34m)\u001b[0m\u001b[0;34m\u001b[0m\u001b[0m\n\u001b[0m\u001b[1;32m    418\u001b[0m             \u001b[0mown_fid\u001b[0m \u001b[0;34m=\u001b[0m \u001b[0;32mTrue\u001b[0m\u001b[0;34m\u001b[0m\u001b[0m\n\u001b[1;32m    419\u001b[0m \u001b[0;34m\u001b[0m\u001b[0m\n",
      "\u001b[0;31mFileNotFoundError\u001b[0m: [Errno 2] No such file or directory: '/home/ducanh/hain/dataset/MPI_INF_3DHF/mmpose_format/mpi_inf_3dhp_train.npz'"
     ]
    }
   ],
   "source": [
    "import os.path as osp\n",
    "\n",
    "data_root = '/home/ducanh/hain/dataset/MPI_INF_3DHF/mmpose_format'\n",
    "\n",
    "train_ann = np.load(osp.join(data_root, 'annotations/mpi_inf_3dhp_train.npz'))\n",
    "train_ann"
   ]
  }
 ],
 "metadata": {
  "kernelspec": {
   "display_name": "Python 3.7.0 ('mmpose')",
   "language": "python",
   "name": "python3"
  },
  "language_info": {
   "codemirror_mode": {
    "name": "ipython",
    "version": 3
   },
   "file_extension": ".py",
   "mimetype": "text/x-python",
   "name": "python",
   "nbconvert_exporter": "python",
   "pygments_lexer": "ipython3",
   "version": "3.7.0"
  },
  "orig_nbformat": 4,
  "vscode": {
   "interpreter": {
    "hash": "54996cf24eb8eb3344e1f21c14ac9d50bcef7cf88c27345b2571e0c4a1f512f4"
   }
  }
 },
 "nbformat": 4,
 "nbformat_minor": 2
}
